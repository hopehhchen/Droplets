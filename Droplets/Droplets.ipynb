{
 "cells": [
  {
   "cell_type": "markdown",
   "metadata": {},
   "source": [
    "# Droplets\n",
    "\n",
    "This *jupyter* notebook carries out the analyses in the upcoming journal article focusing on analyzing gravitationally unbound, coherent structures with significant velocity gradients.  The notebook is edited to work with data and *Python* scripts in the [Github repo](https://github.com/hopehhchen/Droplets).\n",
    "\n",
    "## 0. Abstract and Outlines\n",
    "\n",
    "The project looks for coherent cores with significant velocity gradients in the L1688 region in Ophiuchus and the B18 region in Taurus, out of the four nearby star forming regions covered by the *GBT Ammonia Survey* (GAS) Data Release 1 ([Friesen and Pineda et al., 2017](https://ui.adsabs.harvard.edu/#abs/2017ApJ...843...63F/abstract)).  One goal of the project is to update numbers for physical properties of (potentially) rotational motions within these structures.  The relation between the velocity gradient and the size was first examined using observations of ammonia molecular line emission by [Goodman et al. (1993)](https://ui.adsabs.harvard.edu/#abs/1993ApJ...406..528G/abstract).  With an improved physical resolution of ~4000 AU (the FWHM beam size at the distance of Ophiuchus and Taurus), we hope to provide more reliable and relevant numbers for simulations and analytical models, especially ones concerning with disk formation inside star forming cores.\n",
    "\n",
    "Subsequent analyses included in this project discover that the structures are possibly gravitationally unbound, despite subsonic velocity dispersions and relatively high column densities.  The behavior is unexpected in the final stages of monolithic star formation driven by gravity.  Due to their small sizes and the seeming unboundness, we term these structures \"droplets,\" to distinguish them from \"cores,\" which are often used to indicate bound and star forming, sub-parsec structures.  The project aims at providing a guess to how the \"droplets\" are formed and what role they could play in the star formation process.\n",
    "\n",
    "This notebook is organized as follows. In ***I. Identification of Structures***, we go through how we identify these structures and how we define the boundaries.  In ***II. Physical Properties of Droplets***, we derive the basic physical properties of the \"droplets,\" based on the property maps from ammonia line fitting to the GAS DR1 data.  In ***III. Kinematics and Dynamics***, we look for possible explanations to the formation of \"droplets\" and the role they play in star formation.  In particular, we look into the spatial distribution of ram pressure within and around the \"droplets,\" to see whether the droplets could be pressure-bound.  In all sections of this notebook, we also provide the codes to generate tables and plots that eventually appear in the corresponding parts of the article.\n",
    "\n",
    "Further discussions are included in the article hosted on Authorea.  **This notebook, though filled with definitions essential for users to understand the analyses, is *not* meant to be complete or continuous as the journal article itself.**  Please look in the article for details.\n",
    "\n",
    "***CAUTION: This is work in progress.***\n",
    "\n",
    "[*The square brackets in this notebook host the technical explanations of following code cells.  They should be treated as code comments.*]\n",
    "\n",
    "#### Authors\n",
    "* **Hope Chen** (leading and corresponding, at <hhchen@cfa.harvard.edu>; Harvard-Smithsonian Center for Astrophysics)\n",
    "* Jaime Pineda (Max-Planck-Institut für Extraterrestrische Physik)\n",
    "* Alyssa Goodman (Harvard-Smithsonian Center for Astrophysics)\n",
    "* Andreas Burkert (University Observatory Munich)"
   ]
  },
  {
   "cell_type": "markdown",
   "metadata": {},
   "source": [
    "#### Code Dependencies\n",
    "* `numpy`\n",
    "* `scipy`\n",
    "* `astropy`\n",
    "* `FITS_tools`\n",
    "* `matplotlib`\n",
    "* `pandas`"
   ]
  },
  {
   "cell_type": "code",
   "execution_count": 18,
   "metadata": {
    "collapsed": false
   },
   "outputs": [],
   "source": [
    "%matplotlib inline\n",
    "import sys\n",
    "import os\n",
    "\n",
    "#\n",
    "import numpy as np\n",
    "\n",
    "#\n",
    "from astropy.io import fits\n",
    "import astropy.wcs as wcs\n",
    "import astropy.units as u\n",
    "import astropy.constants as c\n",
    "import FITS_tools as fits_tools\n",
    "\n",
    "#\n",
    "import matplotlib.pyplot as plt\n",
    "import matplotlib.colors as colors\n",
    "\n",
    "#\n",
    "import pandas as pd\n",
    "\n",
    "## \n",
    "import styles\n",
    "\n",
    "##\n",
    "import astropy.modeling as modeling"
   ]
  },
  {
   "cell_type": "markdown",
   "metadata": {},
   "source": [
    "## 0.1 Data and Targets\n",
    "\n",
    "The GAS DR1 inlcudes observations of the ammonia hyperfine line emission made with the *Green Bank Telescope* (GBT).  By fitting Guassian profiles to the ammonia hyperfine lines, [Friesen and Pineda et al. (2017)](https://ui.adsabs.harvard.edu/#abs/2017ApJ...843...63F/abstract) derive the property maps of four nearby star forming regions: B18 in Taurus, L1688 in Ophiuchus, NGC1333 in Perseus, and Orion A North.  These physical properties include the NH$_3$ velocity centroid (in the LSR frame; $V_\\text{LSR}$), the NH$_3$ velocity dispersion ($\\sigma_V$), the NH$_3$ column density (N$_{\\text{NH}_3}$), the excitation temperature of NH$_3$ hyperfine lines (T$_\\text{ex}$), and the kinetic temperature (T$_\\text{kin}$).  Besides property maps included as part of the GAS DR1, we also derive the peak main beam temperature from the trimmed and baseline subtracted data cubes from observations of NH$_3$ (1, 1) hyperfine lines.  We look for coherent structures using these physical properties in the B18 region and the L1688 region, where their proximity (at the distances of ~135 and ~137.3 pc, respectively; [Schlafly et al., 2014](https://ui.adsabs.harvard.edu/#abs/2014ApJ...786...29S/abstract); [Ortiz-León et al., 2017](https://ui.adsabs.harvard.edu/#abs/2017ApJ...834..141O/abstract)) grants us the highest physical resolution (the GBT FWHM beamsize of 32\" at 23 GHz corresponds to ~4300 AU).\n",
    "\n",
    "[*The Python dictionary `distances` stores the distances that are used throughout this paper, in the formats of `astropy.units`.*]"
   ]
  },
  {
   "cell_type": "code",
   "execution_count": 38,
   "metadata": {
    "collapsed": true
   },
   "outputs": [],
   "source": [
    "distances = {'L1688': 137.3*u.pc, 'B18': 135.*u.pc}"
   ]
  },
  {
   "cell_type": "markdown",
   "metadata": {},
   "source": [
    "The GAS data are supplemented by the column density and dust temprature maps derived using *Herschel* observations of dust continuum emission.  The *Herschel* observations were made as part of the *Herschel Gould Belt Survey* (GBS; [André et al., 2010](https://ui.adsabs.harvard.edu/#abs/2010A&A...518L.102A/abstract)), and the data are from the *Herschel* Science Archive.  The FWHM beamsize of SPIRE 500 µm is 36\", which matches well with the GBT beamsize.\n",
    "\n",
    "The full GAS DR1 dataset is hosted on [Dataverse](https://dataverse.harvard.edu/dataverse/GAS_Project), which includes the original data cubes from GBT observations of various molecular lines.  The peak main beam temperature maps were not included in the set of property maps in the GAS DR1, but were instead derived from the trimmed and baseline subtracted data cubes.  Due to the github policy for large data files, the  [Droplets github repo](https://github.com/hopehhchen/Droplets) includes only the data maps that are needed in the analyses, but not the data cubes from which the property maps were derived.\n",
    "\n",
    "[*The datasets are read and stored in `dict_data`.  The maps of error in each phsyical property were produced for the GAS DR1 alongside the property maps, and are stored in `dict_data` with a prefix \"`e`\".  The property maps in the GAS DR1 are flagged by the detection level and the goodness of the fit.  In the array directly read in from files in [this github repo](https://github.com/hopehhchen/Droplets) and in the [GAS DR1 dataverse](https://dataverse.harvard.edu/dataverse/GAS_Project), the flagged pixels within the observed areas have values of 0.  In the following code cell, we remove the flags by converting them to NaN values, for the ease of future calculation.  This is not done for the maps of the peak main beam temperature, which is derived from the data cubes that include the full observed areas.*]"
   ]
  },
  {
   "cell_type": "code",
   "execution_count": 39,
   "metadata": {
    "collapsed": false
   },
   "outputs": [],
   "source": [
    "# data folder (within the current directory)\n",
    "direcData = os.getcwd()+'/data/'\n",
    "## lists of property maps to be read in\n",
    "list_propertiesGAS = ['Vlsr', 'Sigma', 'N_NH3', 'Tex', 'Tkin']\n",
    "list_propertiesHerschel = ['colden', 'temp']\n",
    "\n",
    "\n",
    "# Read the data.\n",
    "dict_data = {'L1688': {}, 'B18': {}}\n",
    "for reg in ['L1688', 'B18']:\n",
    "    \n",
    "    # GAS DR1 Property Maps\n",
    "    for prop in list_propertiesGAS:\n",
    "        ## data\n",
    "        data = fits.open(direcData+'GAS_DR1/'+reg+'/'+reg+'_'+prop+'_DR1_rebase3_flag.fits')[0].data\n",
    "        data[data == 0.] = np.nan ## Remove the flags\n",
    "        dict_data[reg][prop] = data\n",
    "        \n",
    "        ## error maps\n",
    "        data = fits.open(direcData+'GAS_DR1/'+reg+'/'+reg+'_e'+prop+'_DR1_rebase3_flag.fits')[0].data\n",
    "        data[data == 0.] = np.nan ## Remove the flags\n",
    "        dict_data[reg]['e'+prop] = data\n",
    "    ## header\n",
    "    dict_data[reg]['header_GAS'] = fits.open(direcData+'GAS_DR1/'+reg+'/'+reg+'_Vlsr_DR1_rebase3_flag.fits')[0].header\n",
    "    \n",
    "    # GAS DR1 Peak Main Beam Temperature\n",
    "    dict_data[reg]['Tpeak'] = fits.open(direcData+'GAS_DR1/'+reg+'/'+reg+'_Tpeak_DR1_rebase3_trim.fits')[0].data\n",
    "    \n",
    "    # Herschel\n",
    "    for prop in list_propertiesHerschel:\n",
    "        dict_data[reg][prop] = fits.open(direcData+'Herschel/'+reg+'/'+reg+'_'+prop+'_masked.fits')[0].data\n",
    "    ## header\n",
    "    dict_data[reg]['header_Herschel'] = fits.open(direcData+'Herschel/'+reg+'/'+reg+'_colden_masked.fits')[0].header"
   ]
  },
  {
   "cell_type": "markdown",
   "metadata": {},
   "source": [
    "Several properties that are immediately derivable from the property maps include the total velocity dispersion ($\\sigma_\\text{tot}$) and its thermal and non-thermal components ($\\sigma_\\text{T}$ and $\\sigma_\\text{NT}$, respectively).  These can be derived from the NH$_3$ linewidth ($\\sigma_{\\text{NH}_3}$) and the kinetic temperature of the gas ($T_\\text{kin}$), assuming that different species of molecules are at a thermal equilibrium.  The equation used here is: $$\\sigma_\\text{tot}^2 = \\sigma_{\\text{NH}_3}^2 - \\frac{k_B T_\\text{kin}}{m_{\\text{NH}_3}} + \\frac{k_B T_\\text{kin}}{\\mu m_\\text{H}} \\text{,}$$ where $m_{\\text{NH}_3}$ is the molecular weight of NH$_3$ and $\\mu m_\\text{H}$ is the average particle weight in the atomic mass unit (a.m.u.).  Throughout this paper, we use $\\mu = 2.37$ based on the results presented by [Kauffmann et al. (2008)](https://ui.adsabs.harvard.edu/#abs/2008A&A...487..993K/abstract), and $m_{\\text{NH}_3} = 17.031\\ \\text{a.m.u.}$ according to the [IUPAC value](https://pubchem.ncbi.nlm.nih.gov/compound/ammonia#section=Top).\n",
    "\n",
    "[*The derived properties: $\\sigma_\\text{tot}$, $\\sigma_\\text{T}$, and $\\sigma_\\text{NT}$ are stored in the same dictionary: `dict_data`.  The following code cell might generate a warning regarding invalid value encoutered in sqrt, which by default would simply produce a NaN value at the pixel(s).  The warning message is due to the unlikely event where the observed NH$_3$ linewidth is narrower than the thermal linewidth of the NH$_3$ molecules expected at the observed kinetic temperature.  This happens only at ~0.01% of the sky areas observed in the L1688 and B18 regions combined.*]"
   ]
  },
  {
   "cell_type": "code",
   "execution_count": 11,
   "metadata": {
    "collapsed": false
   },
   "outputs": [
    {
     "name": "stderr",
     "output_type": "stream",
     "text": [
      "/anaconda/lib/python2.7/site-packages/ipykernel/__main__.py:10: RuntimeWarning: invalid value encountered in sqrt\n"
     ]
    }
   ],
   "source": [
    "for reg in ['L1688', 'B18']:\n",
    "    \n",
    "    # NH3 linewidth and kinetic temperature from GAS DR1\n",
    "    sigmaNH3 = dict_data[reg]['Sigma']\n",
    "    Tkin = dict_data[reg]['Tkin']\n",
    "    \n",
    "    \n",
    "    # derived properties\n",
    "    ## thermal and non-thermal components\n",
    "    sigmaNT = np.sqrt((sigmaNH3*u.km/u.s)**2. - c.k_B*Tkin*u.K/(17.031*u.u)).to(u.km/u.s).value\n",
    "    sigmaT = np.sqrt(c.k_B*Tkin*u.K/(2.37*u.u)).to(u.km/u.s).value\n",
    "    ## total velocity dispersion\n",
    "    sigmaTot = np.sqrt((sigmaNT*u.km/u.s)**2.+(sigmaT*u.km/u.s)**2.).to(u.km/u.s).value\n",
    "    \n",
    "    \n",
    "    # store the derived maps\n",
    "    dict_data[reg]['SigmaNT'] = sigmaNT\n",
    "    dict_data[reg]['SigmaT'] = sigmaT\n",
    "    dict_data[reg]['SigmaTot'] = sigmaTot"
   ]
  },
  {
   "cell_type": "markdown",
   "metadata": {},
   "source": [
    "For easier comparison between the GAS DR1 data and the *Herschel* maps, we project the *Herschel* maps to the GAS DR1 grid.  As mentioned above, the GBT has a FWHM beamsize at 23 GHz (32\") similar to the FWHM beamsize of *Herschel* 500 µm (36\").  Thus, we can safely assume that the regridding does not introduce a significant biase.\n",
    "\n",
    "[*The regridding is done using the *Python* package [`FITS_tools`](http://fits-tools.readthedocs.io/en/latest/fits_tools.html).  The newly projected images replace the original images in `dict_data`.*]"
   ]
  },
  {
   "cell_type": "code",
   "execution_count": 4,
   "metadata": {
    "collapsed": false
   },
   "outputs": [],
   "source": [
    "# Regrid the Herschel maps.\n",
    "for reg in ['L1688', 'B18']:\n",
    "    \n",
    "    for prop in list_propertiesHerschel:\n",
    "        \n",
    "        # Regrid using hcongrid.\n",
    "        image = dict_data[reg][prop].copy()\n",
    "        header1 = dict_data[reg]['header_Herschel'] ## original projection\n",
    "        header2 = dict_data[reg]['header_GAS'] ## projection to interpolate into\n",
    "        \n",
    "        dict_data[reg][prop] = fits_tools.hcongrid.hcongrid(image, header1, header2)"
   ]
  },
  {
   "cell_type": "markdown",
   "metadata": {},
   "source": [
    "## I. Identification of Structures\n",
    "\n",
    "We look for coherent structures ([Goodman et al., 1993](https://ui.adsabs.harvard.edu/#abs/1993ApJ...406..528G/abstract)) in the L1688 region in Ophiuchus and the B18 region in Taurus.  [Goodman et al. (1993)](https://ui.adsabs.harvard.edu/#abs/1993ApJ...406..528G/abstract) proposed that these coherent structures represent the smallest scale in the self-similar process of star formation in turbulent clouds, within which the dominant gravity drives the final stage of star formation.  The coherent structures are defined by a boundary of sharp transition in linewidth, from supersonic linewidths outside to subsonic linewidths inside the coherent structures.  Thus, our selection and definition of target structures are based on comparison between the thermal ($\\sigma_\\text{T}$) and non-thermal ($\\sigma_\\text{NT}$) components of velocity dispersion.  We also look for coherent structures that also show a local peak in column density."
   ]
  },
  {
   "cell_type": "code",
   "execution_count": 135,
   "metadata": {
    "collapsed": false
   },
   "outputs": [
    {
     "name": "stdout",
     "output_type": "stream",
     "text": [
      "/Users/hopechen/Documents/projects/git_projects/Droplets/Droplets\r\n"
     ]
    }
   ],
   "source": [
    "!pwd"
   ]
  },
  {
   "cell_type": "code",
   "execution_count": 136,
   "metadata": {
    "collapsed": false
   },
   "outputs": [
    {
     "data": {
      "text/plain": [
       "'/Users/hopechen/Documents/projects/git_projects/Droplets/Droplets'"
      ]
     },
     "execution_count": 136,
     "metadata": {},
     "output_type": "execute_result"
    }
   ],
   "source": [
    "os.getcwd()"
   ]
  },
  {
   "cell_type": "code",
   "execution_count": 77,
   "metadata": {
    "collapsed": false
   },
   "outputs": [],
   "source": [
    "direcMasks = os.getcwd()+'/data/masks/'\n",
    "dict_masks = {'L1688': {}, 'B18': {}}\n",
    "\n",
    "for reg in ['L1688', 'B18']:\n",
    "    if reg == 'L1688':\n",
    "        nCores = 12\n",
    "    elif reg == 'B18':\n",
    "        nCores = 6\n",
    "        \n",
    "    for i in range(1, nCores+1):\n",
    "        dict_masks[reg][i] = fits.open(direcMasks+reg+'/'+reg+'_'+str(i)+'.fits')[0].data.astype(bool)\n",
    "        \n",
    "    if reg == 'L1688':\n",
    "        dict_masks[reg]['extra'] = fits.open(direcMasks+reg+'/'+reg+'_extra.fits')[0].data.astype(bool)"
   ]
  },
  {
   "cell_type": "code",
   "execution_count": 134,
   "metadata": {
    "collapsed": false
   },
   "outputs": [],
   "source": [
    "def centroidMask(mask):\n",
    "    '''\n",
    "    The function used to calculate the centroid of the boolean mask.\n",
    "    \n",
    "    Input\n",
    "    ------\n",
    "    mask: a 2D-array, either of type boolean, or any type that can be converted to the boolean.\n",
    "    \n",
    "    Output\n",
    "    ------\n",
    "    xcent, ycent: (x, y) [axis-1 and axis-0]\n",
    "    '''\n",
    "    \n",
    "    # Create the coordinate grids.\n",
    "    mask = mask.astype(bool)\n",
    "    xgrid, ygrid = np.meshgrid(np.arange(mask.shape[1], dtype = float),\n",
    "                               np.arange(mask.shape[0], dtype = float))\n",
    "    \n",
    "    # Calculate the centroid based on the boolean mask.\n",
    "    xcent = np.average(xgrid[mask],\n",
    "                       weights = mask[mask].astype(float))\n",
    "    ycent = np.average(ygrid[mask],\n",
    "                       weights = mask[mask].astype(float))\n",
    "    \n",
    "    \n",
    "    \n",
    "    return xcent, ycent\n",
    "\n",
    "\n",
    "def fitGradient(mask, Vlsr, eVlsr):\n",
    "    '''\n",
    "    The function used to fit a 1st-degree 2D polynomial to the Vlsr field.\n",
    "    \n",
    "    Input\n",
    "    ------\n",
    "    mask:\n",
    "    \n",
    "    Vlsr:\n",
    "    \n",
    "    Output\n",
    "    ------\n",
    "    gradfit: an astropy.modeling.model object\n",
    "    \n",
    "    fitter: an astropy.modeling.fitting object\n",
    "    \n",
    "    Vlsr_predicted:\n",
    "    '''\n",
    "    \n",
    "    # Create the coordinate grid; shift acoording to the centroid; read Vlsr and eVlsr.\n",
    "    mask = mask.astype(bool)\n",
    "    xcent, ycent = centroidMask(mask)\n",
    "    xgrid, ygrid = np.meshgrid(np.arange(mask.shape[1], dtype = float),\n",
    "                               np.arange(mask.shape[0], dtype = float))\n",
    "    xgrid -= xcent\n",
    "    ygrid -= ycent\n",
    "    ## Read Vlsr and eVlsr.\n",
    "    zgrid = Vlsr\n",
    "    wgrid = 1./eVlsr**2. ## Weight the fits by the reciprocal of the uncertainty squared.\n",
    "    \n",
    "    # Fit using `astropy.modeling`.\n",
    "    gradfit = modeling.polynomial.Polynomial2D(1)\n",
    "    fitter = modeling.fitting.LevMarLSQFitter()\n",
    "    gradfit = fitter(gradfit,\n",
    "                     xgrid[mask&np.isfinite(Vlsr)],\n",
    "                     ygrid[mask&np.isfinite(Vlsr)],\n",
    "                     Vlsr[mask&np.isfinite(Vlsr)],\n",
    "                     weights = wgrid[mask&np.isfinite(Vlsr)])\n",
    "    \n",
    "    # Generate a map of predicted Vlsr.\n",
    "    Vlsr_predicted = gradfit(xgrid, ygrid)\n",
    "    \n",
    "    \n",
    "    \n",
    "    return gradfit, fitter, Vlsr_predicted\n",
    "\n",
    "def convertAngle(angle):\n",
    "    '''\n",
    "    The function that converts the numpy angles to PA [E of N] and remove redundancies.\n",
    "    \n",
    "    Input\n",
    "    ------\n",
    "    angle: in degrees.\n",
    "    '''\n",
    "    \n",
    "    # Rotate by 90 degrees counter-clockwise.\n",
    "    angle = angle - 90.\n",
    "    \n",
    "    # Remove degeneracy around the 180 degree mark.\n",
    "    if angle <= 0.:\n",
    "        angle = angle + 180.\n",
    "    \n",
    "    # Convert angles in the SE quadrant to positive values.\n",
    "    if angle <= 0.:\n",
    "        angle = angle + 180.\n",
    "    \n",
    "    \n",
    "    \n",
    "    return angle\n",
    "\n",
    "\n",
    "def readGradient(gradfit, fitter, header, reg):\n",
    "    '''\n",
    "    The function that converts the `astropy.modeling` object to physical values.\n",
    "    \n",
    "    Input\n",
    "    ------\n",
    "    gradfit:\n",
    "    \n",
    "    Output\n",
    "    ------\n",
    "    GradMag: The gradient magnitude, in km/s/pc. [`astropy.units` object]\n",
    "    \n",
    "    eGradMag: The uncertainty in the gradient magnitude measurement.\n",
    "    \n",
    "    GradPA: The position angle of the fitted velocity graidnet, in degrees. [E of N]\n",
    "    \n",
    "    eGradPA: The uncertainty in the position angle measurement.\n",
    "    '''\n",
    "    \n",
    "    # Calculate the pixel scale (the corresponding physical scale at the distance of the region).\n",
    "    pixscale = np.radians(abs(header['CDELT1']))*distances[reg]\n",
    "    \n",
    "    # Convert the gradients to physical units (km/s/pc).\n",
    "    gradx, grady = gradfit.parameters[1]*u.km/u.s/pixscale, gradfit.parameters[2]*u.km/u.s/pixscale\n",
    "    \n",
    "    # Calculate the magnitude and the PA based on the converted x- and y-components.\n",
    "    GradMag = (np.sqrt(gradx**2.+grady**2.)).to(u.km/u.s/u.pc).value  ## in km/s/pc\n",
    "    GradPA = convertAngle(np.degrees(np.arctan2(grady.value, gradx.value)))  ## in degrees\n",
    "    \n",
    "    # Estimate the uncertainty from the covariant matrix.\n",
    "    ## the raw parameters\n",
    "    x, y = gradfit.parameters[1], gradfit.parameters[2]\n",
    "    ## uncertainties in x and y\n",
    "    sigx, sigy = fitter.fit_info['param_cov'][2, 2], fitter.fit_info['param_cov'][3, 3]\n",
    "    ## propagation to GradMag\n",
    "    eGradMag = np.sqrt((sigx*x/np.sqrt(x**2.+y**2.))**2.+(sigy*y/np.sqrt(x**2.+y**2.))**2.)\n",
    "    eGradMag *= u.km/u.s/pixscale  ## Convert to physical units.\n",
    "    ## propagation to GradPA\n",
    "    eGradPA = np.sqrt((sigx*(1./(1.+(y/x)**2.))*(-y/x**2.))**2.+\\\n",
    "                      (sigy*(1./(1.+(y/x)**2.))*(1./x))**2.)\n",
    "    eGradPA = np.degrees(eGradPA)  ## Convert to degrees.\n",
    "    \n",
    "    \n",
    "    \n",
    "    \n",
    "    return GradMag, eGradMag, GradPA, eGradPA"
   ]
  },
  {
   "cell_type": "code",
   "execution_count": 131,
   "metadata": {
    "collapsed": true
   },
   "outputs": [],
   "source": [
    "from sympy import *\n",
    "x, y, z = symbols('x y z')"
   ]
  },
  {
   "cell_type": "code",
   "execution_count": null,
   "metadata": {
    "collapsed": true
   },
   "outputs": [],
   "source": [
    "sig1 = np.sqrt((fit_p.fit_info['param_cov'])[1, 1])\n",
    "    sig2 = np.sqrt((fit_p.fit_info['param_cov'])[2, 2])\n",
    "    x1 = p.parameters[1]\n",
    "    x2 = p.parameters[2]\n",
    "    fx1x2 = np.sqrt(x1**2.+x2**2.)\n",
    "    V_grad_mag = fx1x2\n",
    "    V_grad_mag_Err = np.sqrt((x1/fx1x2)**2.*sig1**2.+(x2/fx1x2)**2.*sig2**2.) # error"
   ]
  },
  {
   "cell_type": "code",
   "execution_count": 125,
   "metadata": {
    "collapsed": false
   },
   "outputs": [
    {
     "name": "stderr",
     "output_type": "stream",
     "text": [
      "WARNING: Model is linear in parameters; consider using linear fitting methods. [astropy.modeling.fitting]\n",
      "WARNING:astropy:Model is linear in parameters; consider using linear fitting methods.\n"
     ]
    },
    {
     "name": "stdout",
     "output_type": "stream",
     "text": [
      "(6.055371340880194, 77.056677558799095) -102.943322441\n"
     ]
    }
   ],
   "source": [
    "reg = 'B18'\n",
    "iCore = 6\n",
    "\n",
    "mask, Vlsr, eVlsr = dict_masks[reg][iCore], dict_data[reg]['Vlsr'], dict_data[reg]['eVlsr']\n",
    "\n",
    "test = fitGradient(mask, Vlsr, eVlsr)\n",
    "\n",
    "result = readGradient(test[0], dict_data[reg]['header_GAS'], reg)\n",
    "\n",
    "print result, result[1]-180."
   ]
  },
  {
   "cell_type": "code",
   "execution_count": 126,
   "metadata": {
    "collapsed": false
   },
   "outputs": [],
   "source": [
    "fitter = test[2]"
   ]
  },
  {
   "cell_type": "code",
   "execution_count": 128,
   "metadata": {
    "collapsed": false
   },
   "outputs": [
    {
     "data": {
      "text/plain": [
       "array([[  8.06437029e-06,  -4.46582920e-07,  -1.78829024e-06],\n",
       "       [ -4.46582920e-07,   6.23031395e-07,  -4.44156404e-07],\n",
       "       [ -1.78829024e-06,  -4.44156404e-07,   1.69990479e-06]])"
      ]
     },
     "execution_count": 128,
     "metadata": {},
     "output_type": "execute_result"
    }
   ],
   "source": [
    "fitter.fit_info['param_cov']"
   ]
  },
  {
   "cell_type": "code",
   "execution_count": 119,
   "metadata": {
    "collapsed": false
   },
   "outputs": [
    {
     "data": {
      "text/plain": [
       "defaultdict(dict,\n",
       "            {'c0_0': {u'orig_unit': None,\n",
       "              u'raw_unit': None,\n",
       "              u'shape': (),\n",
       "              u'slice': slice(0, 1, None)},\n",
       "             'c0_1': {u'orig_unit': None,\n",
       "              u'raw_unit': None,\n",
       "              u'shape': (),\n",
       "              u'slice': slice(2, 3, None)},\n",
       "             'c1_0': {u'orig_unit': None,\n",
       "              u'raw_unit': None,\n",
       "              u'shape': (),\n",
       "              u'slice': slice(1, 2, None)}})"
      ]
     },
     "execution_count": 119,
     "metadata": {},
     "output_type": "execute_result"
    }
   ],
   "source": [
    "grad._param_metrics"
   ]
  },
  {
   "cell_type": "code",
   "execution_count": 84,
   "metadata": {
    "collapsed": false
   },
   "outputs": [
    {
     "data": {
      "text/plain": [
       "45.897566238435246"
      ]
     },
     "execution_count": 84,
     "metadata": {},
     "output_type": "execute_result"
    }
   ],
   "source": [
    "result[1]"
   ]
  },
  {
   "cell_type": "code",
   "execution_count": 60,
   "metadata": {
    "collapsed": false
   },
   "outputs": [],
   "source": [
    "a = 359.*u.deg\n",
    "b = 2.*u.deg"
   ]
  },
  {
   "cell_type": "code",
   "execution_count": 62,
   "metadata": {
    "collapsed": false
   },
   "outputs": [
    {
     "data": {
      "text/latex": [
       "$180.5 \\; \\mathrm{{}^{\\circ}}$"
      ],
      "text/plain": [
       "<Quantity 180.5 deg>"
      ]
     },
     "execution_count": 62,
     "metadata": {},
     "output_type": "execute_result"
    }
   ],
   "source": [
    "(a+b)/2."
   ]
  },
  {
   "cell_type": "code",
   "execution_count": 36,
   "metadata": {
    "collapsed": false
   },
   "outputs": [
    {
     "data": {
      "text/plain": [
       "array([ 3.38177047,  0.00948525, -0.0098688 ])"
      ]
     },
     "execution_count": 36,
     "metadata": {},
     "output_type": "execute_result"
    }
   ],
   "source": [
    "gradfit.parameters"
   ]
  },
  {
   "cell_type": "code",
   "execution_count": 37,
   "metadata": {
    "collapsed": false
   },
   "outputs": [
    {
     "data": {
      "text/plain": [
       "(u'c0_0', u'c1_0', u'c0_1')"
      ]
     },
     "execution_count": 37,
     "metadata": {},
     "output_type": "execute_result"
    }
   ],
   "source": [
    "gradfit.param_names"
   ]
  },
  {
   "cell_type": "code",
   "execution_count": 34,
   "metadata": {
    "collapsed": false
   },
   "outputs": [
    {
     "data": {
      "text/plain": [
       "<matplotlib.contour.QuadContourSet at 0x1185f4c90>"
      ]
     },
     "execution_count": 34,
     "metadata": {},
     "output_type": "execute_result"
    },
    {
     "data": {
      "image/png": "[encoded data removed]",
      "text/plain": [
       "<matplotlib.figure.Figure at 0x116602210>"
      ]
     },
     "metadata": {},
     "output_type": "display_data"
    }
   ],
   "source": [
    "plt.imshow(test[1])\n",
    "\n",
    "plt.contour(mask,\n",
    "            levels = [.5],\n",
    "            colors = 'r')"
   ]
  },
  {
   "cell_type": "code",
   "execution_count": 16,
   "metadata": {
    "collapsed": false
   },
   "outputs": [
    {
     "name": "stdout",
     "output_type": "stream",
     "text": [
      "2.0\n"
     ]
    }
   ],
   "source": [
    "test = 3.\n",
    "\n",
    "test -= 1.\n",
    "\n",
    "print test"
   ]
  },
  {
   "cell_type": "code",
   "execution_count": 15,
   "metadata": {
    "collapsed": false
   },
   "outputs": [
    {
     "data": {
      "text/plain": [
       "(59.025974025974023, 178.98701298701297)"
      ]
     },
     "execution_count": 15,
     "metadata": {},
     "output_type": "execute_result"
    }
   ],
   "source": [
    "reg = 'L1688'\n",
    "iCore = 2\n",
    "centroidMask(dict_masks[reg][iCore])"
   ]
  },
  {
   "cell_type": "code",
   "execution_count": null,
   "metadata": {
    "collapsed": true
   },
   "outputs": [],
   "source": [
    "fig, axes = plt.subplots(figsize = (14., 14.),\n",
    "                         nrows = 3,\n",
    "                         ncols = 2)\n",
    "target = dict_masks\n",
    "\n",
    "ax"
   ]
  }
 ],
 "metadata": {
  "kernelspec": {
   "display_name": "Python 2",
   "language": "python",
   "name": "python2"
  },
  "language_info": {
   "codemirror_mode": {
    "name": "ipython",
    "version": 2
   },
   "file_extension": ".py",
   "mimetype": "text/x-python",
   "name": "python",
   "nbconvert_exporter": "python",
   "pygments_lexer": "ipython2",
   "version": "2.7.11"
  }
 },
 "nbformat": 4,
 "nbformat_minor": 0
}
