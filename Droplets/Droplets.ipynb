{
 "cells": [
  {
   "cell_type": "markdown",
   "metadata": {},
   "source": [
    "# Droplets\n",
    "\n",
    "This *jupyter* notebook carries out the analyses in the upcoming journal article focusing on analyzing gravitationally unbound, coherent structures with significant velocity gradients.  The notebook is edited to work with data and *Python* scripts in the [Github repo](https://github.com/hopehhchen/Droplets).\n",
    "\n",
    "## 0. Abstract and Outlines\n",
    "\n",
    "The project looks for coherent cores with significant velocity gradients in the L1688 region in Ophiuchus and the B18 region in Taurus, out of the four nearby star forming regions covered by the *GBT Ammonia Survey* (GAS) Data Release 1 ([Friesen and Pineda et al., 2017](https://ui.adsabs.harvard.edu/#abs/2017ApJ...843...63F/abstract)).  One goal of the project is to update numbers for physical properties of (potentially) rotational motions within these structures.  The relation between the velocity gradient and the size was first examined using observations of ammonia molecular line emission by [Goodman et al. (1993)](https://ui.adsabs.harvard.edu/#abs/1993ApJ...406..528G/abstract).  With an improved physical resolution of ~4000 AU (the FWHM beam size at the distance of Ophiuchus and Taurus), we hope to provide more reliable and relevant numbers for simulations and analytical models, especially ones concerning with disk formation inside star forming cores.\n",
    "\n",
    "Subsequent analyses included in this project discover that the structures are possibly gravitationally unbound, despite subsonic velocity dispersions and relatively high column densities.  The behavior is unexpected in the final stages of monolithic star formation driven by gravity.  Due to their small sizes and the seeming unboundness, we term these structures \"droplets,\" to distinguish them from \"cores,\" which are often used to indicate bound and star forming, sub-parsec structures.  The project aims at providing a guess to how the \"droplets\" are formed and what role they could play in the star formation process.\n",
    "\n",
    "This notebook is organized as follows. In ***I. Identification of Structures***, we go through how we identify these structures and how we define the boundaries.  In ***II. Physical Properties of Droplets***, we derive the basic physical properties of the \"droplets,\" based on the property maps from ammonia line fitting to the GAS DR1 data.  In ***III. Kinematics and Dynamics***, we look for possible explanations to the formation of \"droplets\" and the role they play in star formation.  In particular, we look into the spatial distribution of ram pressure within and around the \"droplets,\" to see whether the droplets could be pressure-bound.  In all sections of this notebook, we also provide the codes to generate tables and plots that eventually appear in the corresponding parts of the article.\n",
    "\n",
    "Further discussions are included in the article hosted on Authorea.  **This notebook, though filled with definitions essential for users to understand the analyses, is *not* meant to be complete or continuous as a journal article itself.**  Please look in the article for details.\n",
    "\n",
    "***CAUTION: This is work in progress.***\n",
    "\n",
    "#### Authors\n",
    "* **Hope Chen** (leading and corresponding, at <hhchen@cfa.harvard.edu>; Harvard-Smithsonian Center for Astrophysics)\n",
    "* Jaime Pineda (Max-Planck-Institut für Extraterrestrische Physik)\n",
    "* Alyssa Goodman (Harvard-Smithsonian Center for Astrophysics)\n",
    "* Andreas Burkert (University Observatory Munich)"
   ]
  },
  {
   "cell_type": "markdown",
   "metadata": {},
   "source": [
    "#### Code Dependencies\n",
    "* `numpy`\n",
    "* `scipy`\n",
    "* `astropy`\n",
    "* `matplotlib`\n",
    "* `pandas`"
   ]
  },
  {
   "cell_type": "code",
   "execution_count": 2,
   "metadata": {
    "collapsed": true
   },
   "outputs": [],
   "source": [
    "%matplotlib inline\n",
    "import sys\n",
    "\n",
    "#\n",
    "import numpy as np\n",
    "\n",
    "#\n",
    "from astropy.io import fits\n",
    "import astropy.wcs as wcs\n",
    "import astropy.units as u\n",
    "import astropy.constants as c\n",
    "\n",
    "#\n",
    "import matplotlib.pyplot as plt\n",
    "import matplotlib.colors as colors\n",
    "\n",
    "#\n",
    "import pandas as pd\n",
    "\n",
    "#\n",
    "import styles"
   ]
  },
  {
   "cell_type": "markdown",
   "metadata": {},
   "source": [
    "## I. Identification of Structures"
   ]
  },
  {
   "cell_type": "code",
   "execution_count": null,
   "metadata": {
    "collapsed": true
   },
   "outputs": [],
   "source": []
  }
 ],
 "metadata": {
  "kernelspec": {
   "display_name": "Python 2",
   "language": "python",
   "name": "python2"
  },
  "language_info": {
   "codemirror_mode": {
    "name": "ipython",
    "version": 2
   },
   "file_extension": ".py",
   "mimetype": "text/x-python",
   "name": "python",
   "nbconvert_exporter": "python",
   "pygments_lexer": "ipython2",
   "version": "2.7.11"
  }
 },
 "nbformat": 4,
 "nbformat_minor": 0
}
